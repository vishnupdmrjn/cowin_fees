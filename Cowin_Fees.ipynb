{
 "cells": [
  {
   "cell_type": "code",
   "execution_count": 19,
   "id": "a499c7b9-20e4-45cc-8f7a-1c182b9e4fc5",
   "metadata": {},
   "outputs": [
    {
     "name": "stdout",
     "output_type": "stream",
     "text": [
      "Malabar Hospital\n",
      "9c0b8d34-d8ec-44cc-91d4-17fcc3e33367\n",
      "47\n",
      "18\n",
      "COVISHIELD\n"
     ]
    },
    {
     "ename": "KeyError",
     "evalue": "'vaccine_fees'",
     "output_type": "error",
     "traceback": [
      "\u001b[0;31m---------------------------------------------------------------------------\u001b[0m",
      "\u001b[0;31mKeyError\u001b[0m                                  Traceback (most recent call last)",
      "\u001b[0;32m/var/folders/lj/08qp12913l10wg6ph7qp7jf00000gn/T/ipykernel_32009/3462976274.py\u001b[0m in \u001b[0;36m<module>\u001b[0;34m\u001b[0m\n\u001b[1;32m     39\u001b[0m         \u001b[0mprint\u001b[0m\u001b[0;34m(\u001b[0m\u001b[0mresponse\u001b[0m\u001b[0;34m.\u001b[0m\u001b[0mjson\u001b[0m\u001b[0;34m(\u001b[0m\u001b[0;34m)\u001b[0m\u001b[0;34m[\u001b[0m\u001b[0;34m\"centers\"\u001b[0m\u001b[0;34m]\u001b[0m\u001b[0;34m[\u001b[0m\u001b[0mi\u001b[0m\u001b[0;34m-\u001b[0m\u001b[0;36m1\u001b[0m\u001b[0;34m]\u001b[0m\u001b[0;34m[\u001b[0m\u001b[0;34m\"sessions\"\u001b[0m\u001b[0;34m]\u001b[0m\u001b[0;34m[\u001b[0m\u001b[0mj\u001b[0m\u001b[0;34m-\u001b[0m\u001b[0;36m1\u001b[0m\u001b[0;34m]\u001b[0m\u001b[0;34m[\u001b[0m\u001b[0;34m\"min_age_limit\"\u001b[0m\u001b[0;34m]\u001b[0m\u001b[0;34m)\u001b[0m\u001b[0;34m\u001b[0m\u001b[0;34m\u001b[0m\u001b[0m\n\u001b[1;32m     40\u001b[0m         \u001b[0mprint\u001b[0m\u001b[0;34m(\u001b[0m\u001b[0mresponse\u001b[0m\u001b[0;34m.\u001b[0m\u001b[0mjson\u001b[0m\u001b[0;34m(\u001b[0m\u001b[0;34m)\u001b[0m\u001b[0;34m[\u001b[0m\u001b[0;34m\"centers\"\u001b[0m\u001b[0;34m]\u001b[0m\u001b[0;34m[\u001b[0m\u001b[0mi\u001b[0m\u001b[0;34m-\u001b[0m\u001b[0;36m1\u001b[0m\u001b[0;34m]\u001b[0m\u001b[0;34m[\u001b[0m\u001b[0;34m\"sessions\"\u001b[0m\u001b[0;34m]\u001b[0m\u001b[0;34m[\u001b[0m\u001b[0mj\u001b[0m\u001b[0;34m-\u001b[0m\u001b[0;36m1\u001b[0m\u001b[0;34m]\u001b[0m\u001b[0;34m[\u001b[0m\u001b[0;34m\"vaccine\"\u001b[0m\u001b[0;34m]\u001b[0m\u001b[0;34m)\u001b[0m\u001b[0;34m\u001b[0m\u001b[0;34m\u001b[0m\u001b[0m\n\u001b[0;32m---> 41\u001b[0;31m         \u001b[0mprint\u001b[0m\u001b[0;34m(\u001b[0m\u001b[0mresponse\u001b[0m\u001b[0;34m.\u001b[0m\u001b[0mjson\u001b[0m\u001b[0;34m(\u001b[0m\u001b[0;34m)\u001b[0m\u001b[0;34m[\u001b[0m\u001b[0;34m\"centers\"\u001b[0m\u001b[0;34m]\u001b[0m\u001b[0;34m[\u001b[0m\u001b[0mi\u001b[0m\u001b[0;34m-\u001b[0m\u001b[0;36m1\u001b[0m\u001b[0;34m]\u001b[0m\u001b[0;34m[\u001b[0m\u001b[0;34m\"sessions\"\u001b[0m\u001b[0;34m]\u001b[0m\u001b[0;34m[\u001b[0m\u001b[0mj\u001b[0m\u001b[0;34m-\u001b[0m\u001b[0;36m1\u001b[0m\u001b[0;34m]\u001b[0m\u001b[0;34m[\u001b[0m\u001b[0;34m\"vaccine_fees\"\u001b[0m\u001b[0;34m]\u001b[0m\u001b[0;34m)\u001b[0m\u001b[0;34m\u001b[0m\u001b[0;34m\u001b[0m\u001b[0m\n\u001b[0m\u001b[1;32m     42\u001b[0m         \u001b[0ms\u001b[0m \u001b[0;34m=\u001b[0m \u001b[0msmtplib\u001b[0m\u001b[0;34m.\u001b[0m\u001b[0mSMTP\u001b[0m\u001b[0;34m(\u001b[0m\u001b[0;34m'smtp.gmail.com'\u001b[0m\u001b[0;34m,\u001b[0m \u001b[0;36m587\u001b[0m\u001b[0;34m)\u001b[0m\u001b[0;34m\u001b[0m\u001b[0;34m\u001b[0m\u001b[0m\n\u001b[1;32m     43\u001b[0m         \u001b[0ms\u001b[0m\u001b[0;34m.\u001b[0m\u001b[0mstarttls\u001b[0m\u001b[0;34m(\u001b[0m\u001b[0;34m)\u001b[0m\u001b[0;34m\u001b[0m\u001b[0;34m\u001b[0m\u001b[0m\n",
      "\u001b[0;31mKeyError\u001b[0m: 'vaccine_fees'"
     ]
    }
   ],
   "source": [
    "import requests\n",
    "import smtplib\n",
    "import datetime\n",
    "\n",
    "d=datetime.datetime.today().strftime('%d-%m-%Y')\n",
    "\n",
    "age=18    #Age 18/45\n",
    "\n",
    "# No of people                                                  \n",
    "tot=1 \n",
    "\n",
    "# Type of vaccination : COVISHIELD, COVAXIN ...                                                \n",
    "vacc=\"COVISHIELD\"\n",
    "\n",
    "#Free or Paid\n",
    "payment=\"Paid\"\n",
    "\n",
    "# Pincodes list \n",
    "pincodes=['676121','676123']\n",
    "\n",
    "FromEmail=\"testquwe@gmail.com\"    # From Email ID inside double quote\n",
    "FromEmailPass=\"Apple@123\"         # From Email ID password inside double quote\n",
    "ToEmail=\"vishnu999@outlook.in\"  # To Email ID inside double quote\n",
    "\n",
    "\n",
    "message = \"\"\"From: {FromEmail}\n",
    "To: {ToEmail}\n",
    "Subject: Vaccine Available\n",
    "\"\"\"\n",
    "c=0\n",
    "for k in range(len(pincodes)):\n",
    "  response = requests.get(\"https://cdn-api.co-vin.in/api/v2/appointment/sessions/public/calendarByPin?pincode=\"+str(pincodes[k])+\"&date=\"+str(d))\n",
    "  for i in range(len(response.json()[\"centers\"])):\n",
    "    for j in range(len(response.json()[\"centers\"][i-1][\"sessions\"])):\n",
    "        for l in range(len(response.json()[\"centers\"][i-1][\"sessions\"][)):\n",
    "      if (response.json()[\"centers\"][i-1][\"sessions\"][j-1][\"min_age_limit\"]==age and response.json()[\"centers\"][i-1][\"sessions\"][j-1][\"vaccine\"]==vacc and response.json()[\"centers\"][i-1][\"sessions\"][j-1][\"available_capacity\"] >=tot and response.json()[\"centers\"][i-1][\"fee_type\"]== payment):\n",
    "        print(response.json()[\"centers\"][i-1][\"name\"])\n",
    "        print(response.json()[\"centers\"][i-1][\"sessions\"][j-1][\"session_id\"])\n",
    "        print(response.json()[\"centers\"][i-1][\"sessions\"][j-1][\"available_capacity\"])\n",
    "        print(response.json()[\"centers\"][i-1][\"sessions\"][j-1][\"min_age_limit\"])\n",
    "        print(response.json()[\"centers\"][i-1][\"sessions\"][j-1][\"vaccine\"])\n",
    "        print(response.json()[\"centers\"][i-1][\"sessions\"][j-1][\"vaccine_fees\"])\n",
    "        s = smtplib.SMTP('smtp.gmail.com', 587)\n",
    "        s.starttls()\n",
    "        s.login(FromEmail, FromEmailPass)\n",
    "        str1=response.json()[\"centers\"][i-1][\"name\"]\n",
    "        str2=response.json()[\"centers\"][i-1][\"sessions\"][j-1][\"available_capacity\"]\n",
    "        message= (message+ \"\\n\" +\t\"Center name : \" + str1 + \"\\n\"+\"Available :\" + str(str2) + \"\\n\")\n",
    "        c=1\n",
    "\n",
    "if (c==1):\n",
    "  s.sendmail(FromEmail, ToEmail, message)\n",
    "  print('Email sent to '+ToEmail+' From '+FromEmail)\n",
    "  s.quit()"
   ]
  },
  {
   "cell_type": "code",
   "execution_count": null,
   "id": "29b971a3-9f40-485c-810c-3b507314f78d",
   "metadata": {},
   "outputs": [],
   "source": []
  },
  {
   "cell_type": "code",
   "execution_count": null,
   "id": "0079b3be-b71a-4bac-a76d-360e1f34c3c8",
   "metadata": {},
   "outputs": [],
   "source": []
  }
 ],
 "metadata": {
  "kernelspec": {
   "display_name": "Python 3 (ipykernel)",
   "language": "python",
   "name": "python3"
  },
  "language_info": {
   "codemirror_mode": {
    "name": "ipython",
    "version": 3
   },
   "file_extension": ".py",
   "mimetype": "text/x-python",
   "name": "python",
   "nbconvert_exporter": "python",
   "pygments_lexer": "ipython3",
   "version": "3.9.6"
  }
 },
 "nbformat": 4,
 "nbformat_minor": 5
}
